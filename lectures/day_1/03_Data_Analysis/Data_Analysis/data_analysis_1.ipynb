{
 "cells": [
  {
   "cell_type": "markdown",
   "metadata": {},
   "source": [
    "## Data Analysis in Python\n",
    "Jane Rigby (Astrophysics Science Division)\n",
    "\n",
    "Vanilla python variables (lists, tuples) are not well-suited for scientific data analysis.  Several packages have developed for real number-crunching:\n",
    "* NumPy provides powerful multi-dimensional arrays and fast math.  Vectorized math is fast math!\n",
    "* SciPy provides algorithms for scientific analysis (FFT, linear algebra, curve-fitting, etc).\n",
    "* Pandas provides more powerful data structures that keep it all organized.\n",
    "\n",
    "In this lecture, I assume you are already a user of NumPy, at least a little.  \n",
    "* [Here is the 2016 GSFC NumPy tutorial.](https://github.com/JulesKouatchou/PBC2016/blob/master/Lectures/Day_02/02_Numpy/1DayBootCamp_Numpy.ipynb)  \n",
    "* [Here is the 2016 GSFC SciPy tutorial.](https://github.com/JulesKouatchou/PBC2016/blob/master/Lectures/Day_02/04_Introduction_Scipy/PBC2016_IntroductionSciPy.ipynb)\n",
    "\n",
    "These examples will use a combination of NumPy, SciPy, and Pandas.  \n",
    "*Since Pandas is new to most people, I'll dwell on it.*"
   ]
  },
  {
   "cell_type": "code",
   "execution_count": null,
   "metadata": {},
   "outputs": [],
   "source": [
    "# NumPy in 1 minute\n",
    "import numpy as np\n",
    "aa = np.array((3,1,4,1,5,9))  # 1-D numpy ndarray\n",
    "print(type(aa))\n",
    "print(np.median(aa))\n",
    "print(np.ones_like(aa))\n",
    "bb = np.zeros((3, 4))  # 2-dimensional array\n",
    "print(bb)\n",
    "# Numpy uses vectorized math, so avoid loops!"
   ]
  },
  {
   "cell_type": "markdown",
   "metadata": {},
   "source": [
    "**What is Pandas?**  Pandas is a python library for data analysis. It uses high-level data structures, and ways to manipulate them.  Pandas comes from data science, and works (almost) seamlessly with numpy and scipy."
   ]
  },
  {
   "cell_type": "markdown",
   "metadata": {},
   "source": [
    "**Why use Pandas?**  Pandas makes it easy to manage complex data, munge data into submission, and perform scientific analysis. I've found it really fun to do science in Pandas!"
   ]
  },
  {
   "cell_type": "markdown",
   "metadata": {},
   "source": [
    "**Where to get started?** I personally love the book, \"Python for Data Analysis: Data Wrangling with Pandas, NumPy, and IPython\", by Wes McKinney, the inventor of Pandas."
   ]
  },
  {
   "cell_type": "code",
   "execution_count": null,
   "metadata": {},
   "outputs": [],
   "source": [
    "from IPython.display import Image, HTML\n",
    "import pandas  # Lots of people import pandas as pd for brevity\n",
    "import astropy.convolution\n",
    "from scipy.optimize import curve_fit\n",
    "%pylab inline"
   ]
  },
  {
   "cell_type": "markdown",
   "metadata": {},
   "source": [
    "<img src=\"https://covers.oreillystatic.com/images/0636920023784/cat.gif\">"
   ]
  },
  {
   "cell_type": "markdown",
   "metadata": {},
   "source": [
    "**Why should you use pandas?**  Pandas makes it easy to keep track of complex datasets.  You can visualize your data, manipulate, munge out bad data, filter, fit with models, bin and group, concatenate with other datasets, and export."
   ]
  },
  {
   "cell_type": "markdown",
   "metadata": {},
   "source": [
    "Let's dive in, and meet the basic part of pandas:  **pandas.DataFrame()**\n",
    "A DataFrame is like a dictionary-on-steroids.  Or like a spreadsheet with rows and columns."
   ]
  },
  {
   "cell_type": "code",
   "execution_count": null,
   "metadata": {},
   "outputs": [],
   "source": [
    "# Loading the Keck/Nirspec spectrum of a gravitationally lensed galaxy, \n",
    "# from Wuyts, Rigby, Gladders et al. 2014, The Astrophysical Journal,  781, 61\n",
    "df1 = pandas.read_table(\"Sample_data/rcs0327_knotU_N3_nirspeckeck.txt\", delim_whitespace=True, comment=\"#\")\n",
    "df1.head()"
   ]
  },
  {
   "cell_type": "markdown",
   "metadata": {},
   "source": [
    "So, df1 is a pandas dataframe that I read with read_table().  There are several read_ tools:  read_csv(), read_sql(), read_excel() ... you get the picture.  \n",
    "I wrote a tutorial on [reading astronomical data with pandas.](https://github.com/janerigby/astro-pandas-tutorials/blob/master/Get%20data%20into%20pandas.ipynb)"
   ]
  },
  {
   "cell_type": "markdown",
   "metadata": {},
   "source": [
    "Let's examine df1.  It looks like a spreadsheet, with rows and columns."
   ]
  },
  {
   "cell_type": "code",
   "execution_count": null,
   "metadata": {},
   "outputs": [],
   "source": [
    "print(df1.keys())\n",
    "print(df1.columns)"
   ]
  },
  {
   "cell_type": "code",
   "execution_count": null,
   "metadata": {},
   "outputs": [],
   "source": [
    "df1.info()"
   ]
  },
  {
   "cell_type": "code",
   "execution_count": null,
   "metadata": {},
   "outputs": [],
   "source": [
    "df1.describe()"
   ]
  },
  {
   "cell_type": "code",
   "execution_count": null,
   "metadata": {},
   "outputs": [],
   "source": [
    "df1.shape"
   ]
  },
  {
   "cell_type": "code",
   "execution_count": null,
   "metadata": {},
   "outputs": [],
   "source": [
    "df1.tail(3)"
   ]
  },
  {
   "cell_type": "code",
   "execution_count": null,
   "metadata": {},
   "outputs": [],
   "source": [
    "df1.head(2)"
   ]
  },
  {
   "cell_type": "code",
   "execution_count": null,
   "metadata": {},
   "outputs": [],
   "source": [
    "df1.max()"
   ]
  },
  {
   "cell_type": "code",
   "execution_count": null,
   "metadata": {},
   "outputs": [],
   "source": [
    "df1['flam'].nlargest(3)"
   ]
  },
  {
   "cell_type": "code",
   "execution_count": null,
   "metadata": {},
   "outputs": [],
   "source": [
    "df1.isnull().head(3)"
   ]
  },
  {
   "cell_type": "code",
   "execution_count": null,
   "metadata": {},
   "outputs": [],
   "source": [
    "df1.isnull().sum()"
   ]
  },
  {
   "cell_type": "code",
   "execution_count": null,
   "metadata": {},
   "outputs": [],
   "source": [
    "# pandas.DataFrame.interpolate() can replace NaNs.  Use with care!\n",
    "# pandas.dropna() can drop the NaNs.  Use with care.\n",
    "df1.loc[df1['flam'].isnull()]"
   ]
  },
  {
   "cell_type": "code",
   "execution_count": null,
   "metadata": {},
   "outputs": [],
   "source": [
    "df1.ix[3]  # Get one row, access by the index.  Clunky"
   ]
  },
  {
   "cell_type": "code",
   "execution_count": null,
   "metadata": {},
   "outputs": [],
   "source": [
    "df1['wave'].between(12793., 12799.).head()   # Boolean filter"
   ]
  },
  {
   "cell_type": "code",
   "execution_count": null,
   "metadata": {},
   "outputs": [],
   "source": [
    "df1.loc[df1['wave'].between(12793., 12799.)]   # Using that boolean filter"
   ]
  },
  {
   "cell_type": "code",
   "execution_count": null,
   "metadata": {},
   "outputs": [],
   "source": [
    "# Plotting shortcut:  pandas.DataFrame.plot() \n",
    "ax = df1.plot(x='wave', y='flam', color='k')\n",
    "df1.plot(x='wave', y='noise', color='yellow', ax=ax, label='uncert')\n",
    "plt.ylim(0,1E-15)\n",
    "plt.xlim(1.15E4, 1.38E4) # Can intermix regular matplotlib commands\n",
    "plt.xlabel(r\"observed wavelength ($\\AA$)\")"
   ]
  },
  {
   "cell_type": "code",
   "execution_count": null,
   "metadata": {},
   "outputs": [],
   "source": [
    "#It's easy to add a new column to the dataframe\n",
    "df1['dispersion'] = df1['wave'].diff()\n",
    "df1['dispersion'].iloc[0] = df1['dispersion'][1] # Fill in the first value\n",
    "df1.head(3)"
   ]
  },
  {
   "cell_type": "code",
   "execution_count": null,
   "metadata": {},
   "outputs": [],
   "source": [
    "df1['smooth'] = df1['flam'].rolling(window=81, center=True).median()  # Rolling functions\n",
    "plt.plot(df1['wave'], df1['flam'], color='k')        # Plotting in regular matplotlib\n",
    "plt.plot(df1['wave'], df1['smooth'], color='green', lw=2)  # Smoothing example\n",
    "plt.ylim(0,0.1E-15)\n",
    "plt.xlim(1.15E4, 1.38E4)"
   ]
  },
  {
   "cell_type": "code",
   "execution_count": null,
   "metadata": {},
   "outputs": [],
   "source": [
    "# A pandas.Series() is a column (or a row) of a Pandas DataFrame\n",
    "example_series = df1.loc[df1['wave'].between(12793., 12799.)]['wave']\n",
    "print(example_series)"
   ]
  },
  {
   "cell_type": "code",
   "execution_count": null,
   "metadata": {},
   "outputs": [],
   "source": [
    "# NumPy should work flawlessly on a Pandas Series or Dataframe\n",
    "print(np.median(df1['wave']),   df1['wave'].median())"
   ]
  },
  {
   "cell_type": "code",
   "execution_count": null,
   "metadata": {},
   "outputs": [],
   "source": [
    "# as_matrix() converts a pandas.Series or DataFrame to a numpy ndarray:\n",
    "print(example_series.as_matrix())\n",
    "print(type(example_series.as_matrix()))"
   ]
  },
  {
   "cell_type": "code",
   "execution_count": null,
   "metadata": {},
   "outputs": [],
   "source": [
    "# Some astropy and scipy functions will barf at a pandas.Series.  as_matrix() is the workaround\n",
    "boxcar = 21\n",
    "# This should barf:\n",
    "#smooth1 = astropy.convolution.convolve(df1['flam'], np.ones((boxcar,))/boxcar, boundary='extend', fill_value=np.nan)\n",
    "# But this should work:\n",
    "smooth1 = astropy.convolution.convolve(df1['flam'].as_matrix(), np.ones((boxcar,))/boxcar, boundary='extend', fill_value=np.nan)"
   ]
  },
  {
   "cell_type": "code",
   "execution_count": null,
   "metadata": {},
   "outputs": [],
   "source": [
    "df1.dropna().shape"
   ]
  },
  {
   "cell_type": "code",
   "execution_count": null,
   "metadata": {},
   "outputs": [],
   "source": [
    "# Hack time:  \n",
    "# Fit the emission lines!  Measure the integrated flux of each emission line.\n",
    "# Bonus points: with uncertainties!\n",
    "# Hint #1: You may want to use scipy.optimize.curve_fit()\n",
    "# Hint #2: Unlike Pandas, scipy doesn't like NaN.  pandas.DataFrame.interpolate() or .dropna() can help\n",
    "rest_waves = np.array((4862.683, 4960.295, 5008.240))\n",
    "ax = df1.plot(x='wave', y='flam', color='k')\n",
    "df1.plot(x='wave', y='noise', color='yellow', ax=ax, label='uncert')\n",
    "plt.ylim(0,1E-15)\n",
    "plt.xlim(1.3E4, 1.36E4) \n",
    "plt.annotate(\"H\", xy=(1.315E4,0.2E-15), xycoords='data', fontsize=16)\n",
    "plt.annotate(\"O++\", xy=(1.34E4,0.4E-15), xycoords='data', fontsize=16)\n",
    "plt.annotate(\"O++\", xy=(1.355E4,0.8E-15), xycoords='data', fontsize=16)\n",
    "plt.xlabel(r\"observed wavelength ($\\AA$)\")\n",
    "##### REMOVE BELOW HERE FOR JANE'S SOLUTION"
   ]
  }
 ],
 "metadata": {
  "kernelspec": {
   "display_name": "Python 3",
   "language": "python",
   "name": "python3"
  },
  "language_info": {
   "codemirror_mode": {
    "name": "ipython",
    "version": 3
   },
   "file_extension": ".py",
   "mimetype": "text/x-python",
   "name": "python",
   "nbconvert_exporter": "python",
   "pygments_lexer": "ipython3",
   "version": "3.6.1"
  }
 },
 "nbformat": 4,
 "nbformat_minor": 1
}
