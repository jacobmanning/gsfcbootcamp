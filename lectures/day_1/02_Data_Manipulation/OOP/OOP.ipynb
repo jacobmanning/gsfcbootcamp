{
 "cells": [
  {
   "cell_type": "markdown",
   "metadata": {},
   "source": [
    "# Object-Oriented Python\n",
    "\n",
    "\n",
    "Jeremy S. Perkins Steve Waterbury  \n",
    "Goddard Python Bootcamp 2017  \n",
    "Jul. 23, 2017\n",
    "\n",
    "Based on Steve Waterbury's 2015 Notebook"
   ]
  },
  {
   "cell_type": "markdown",
   "metadata": {},
   "source": [
    "# What's an Object?\n",
    "\n",
    "* An ***object*** is created by *instantiating* a ***class***\n",
    "* A ***class*** is created using Python's ***class statement*** (usually)\n",
    "* In general, any number of objects can be created from a single class ...\n",
    "* ... unless the class is given some [special magic][1] to make it a *\"Singleton\"*\n",
    "[1]: http://c2.com/cgi/wiki?PythonSingleton"
   ]
  },
  {
   "cell_type": "markdown",
   "metadata": {},
   "source": [
    "# Ok ... so what's a Class?\n",
    "\n",
    "### A \"class\" is a code structure that contains ...\n",
    "  1. ***Data*** in the form of ***Fields***, a.k.a. ***\"attributes\"***, and\n",
    "  2. ***Procedures***, a.k.a. ***\"methods\"***\n",
    "  \n",
    "### One way to think of these is:\n",
    "  1. An object's ***attributes*** represent its ***state***\n",
    "  2. Its ***methods*** represent its ***behavior***\n",
    "  \n"
   ]
  },
  {
   "cell_type": "markdown",
   "metadata": {},
   "source": [
    "# Have we seen any examples of Objects yet?\n",
    "\n",
    "* Yes! In Python, ***EVERYTHING*** is an object!\n",
    "* Wow.  :)\n",
    "* Ok, so why would I need to create my *OWN* classes and objects?\n",
    "    * Answer:  you don't ... unless you do ..."
   ]
  },
  {
   "cell_type": "markdown",
   "metadata": {},
   "source": [
    "# Python programs can have different styles\n",
    "* Simple, short scripts can just be straight-line code -- **Do this one thing! BAM!**\n",
    "* A somewhat longer task might have a recurring sub-task: **a function**\n",
    "* If more **functions** appear, they might be grouped into one file (a **module**)\n",
    "* **Classes** come in when higher levels of structure are needed ..."
   ]
  },
  {
   "cell_type": "markdown",
   "metadata": {},
   "source": [
    "# When should I write my own classes?\n",
    "* When you have some functions that are passing one or more parameters around\n",
    "* When you have some functions that need to access the same \"state\" information\n",
    "* When you are developing a Graphical User Interface (GUI)\n",
    "* When you need to represent and process some highly structured data, e.g.:\n",
    "  - a document or web page\n",
    "  - data about a real-world \"thing\" (either man-made or natural)"
   ]
  },
  {
   "cell_type": "markdown",
   "metadata": {},
   "source": [
    "# Now for a story ...\n",
    "* In which our hero embarks on an entrepreneurial adventure ...\n",
    "* Following the \"Lean Startup Methodology\" ... and in which\n",
    "* You learn the **Python's Class Development Toolkit**,\n",
    "* And see how users will exercise your classes in unexpected ways ..."
   ]
  },
  {
   "cell_type": "markdown",
   "metadata": {},
   "source": [
    "# The Graduation Dilemma\n",
    "\n",
    "* Get a haircut and get a real job\n",
    "\n",
    "-- or --\n",
    "\n",
    "* Be CEO of your own startup\n",
    "\n",
    "... I say **\"Go for it!\"**"
   ]
  },
  {
   "cell_type": "markdown",
   "metadata": {},
   "source": [
    "# Company Name and Elevator Pitch"
   ]
  },
  {
   "cell_type": "code",
   "execution_count": 1,
   "metadata": {
    "collapsed": false
   },
   "outputs": [
    {
     "data": {
      "text/plain": [
       "'Circuitous LLC - \\n        An advanced circle analytics company.\\n'"
      ]
     },
     "execution_count": 1,
     "metadata": {},
     "output_type": "execute_result"
    }
   ],
   "source": [
    "\"\"\"Circuitous LLC - \n",
    "        An advanced circle analytics company.\n",
    "\"\"\""
   ]
  },
  {
   "cell_type": "markdown",
   "metadata": {},
   "source": [
    "# Start coding:  a Circle class\n"
   ]
  },
  {
   "cell_type": "code",
   "execution_count": 2,
   "metadata": {
    "collapsed": true
   },
   "outputs": [],
   "source": [
    "class Circle (object):\n",
    "    \"\"\"An advanced circle analytic toolkit\"\"\""
   ]
  },
  {
   "cell_type": "markdown",
   "metadata": {},
   "source": [
    "# Add class variable(s) for shared data\n",
    "\n",
    "Class variables are the same for all instances.  \n",
    "(***But*** they can be overridden by instance variables.)"
   ]
  },
  {
   "cell_type": "code",
   "execution_count": 3,
   "metadata": {
    "collapsed": true
   },
   "outputs": [],
   "source": [
    "class Circle(object):\n",
    "    \"\"\"An advanced circle analytic toolkit\"\"\"\n",
    "    \n",
    "    version = \"0.1\"\n",
    "    spam = 0.5\n",
    "\n"
   ]
  },
  {
   "cell_type": "markdown",
   "metadata": {},
   "source": [
    "# Use instance variables for instance-specific data\n",
    "\n",
    "`__init__` isn't a constructor.  Its job is to initialize the instance variables.\n"
   ]
  },
  {
   "cell_type": "code",
   "execution_count": 4,
   "metadata": {
    "collapsed": true
   },
   "outputs": [],
   "source": [
    "class Circle(object):        \n",
    "    \"\"\"An advanced circle analytic toolkit\"\"\"\n",
    "    \n",
    "    version = \"0.1\"\n",
    "    spam = 0.5\n",
    "    \n",
    "    def __init__(self, radius):\n",
    "        self.radius = radius\n",
    "\n",
    "\n"
   ]
  },
  {
   "cell_type": "markdown",
   "metadata": {},
   "source": [
    "# Regular method\n",
    "\n",
    "Regular methods have \"self\" as their first argument.  \n",
    "Hmmm, what about the '3.14'?"
   ]
  },
  {
   "cell_type": "code",
   "execution_count": 5,
   "metadata": {
    "collapsed": true
   },
   "outputs": [],
   "source": [
    "class Circle(object):        \n",
    "    \"\"\"An advanced circle analytic toolkit\"\"\"\n",
    "    \n",
    "    version = \"0.1\"\n",
    "    spam = 0.5\n",
    "    \n",
    "    def __init__(self, radius):\n",
    "        self.radius = radius\n",
    "\n",
    "    def area(self):\n",
    "        \"Perform quadrature on this circle.\"\n",
    "        return 3.14 * self.radius ** 2\n",
    "\n"
   ]
  },
  {
   "cell_type": "markdown",
   "metadata": {},
   "source": [
    "# Modules for code reuse\n"
   ]
  },
  {
   "cell_type": "code",
   "execution_count": 8,
   "metadata": {
    "collapsed": true
   },
   "outputs": [],
   "source": [
    "import math\n",
    " \n",
    "class Circle(object):        \n",
    "    \"\"\"An advanced circle analytic toolkit\"\"\"\n",
    "    \n",
    "    version = \"0.1\"\n",
    "    spam = 0.5\n",
    "    \n",
    "    def __init__(self, radius, color='red'):\n",
    "        self.radius = radius\n",
    "\n",
    "    def area(self):\n",
    "        \"Perform quadrature on this circle.\"\n",
    "        return math.pi * self.radius ** 2"
   ]
  },
  {
   "cell_type": "markdown",
   "metadata": {},
   "source": [
    "# We have \"Minimum Viable Product\" - ship it!"
   ]
  },
  {
   "cell_type": "code",
   "execution_count": 7,
   "metadata": {
    "collapsed": false
   },
   "outputs": [
    {
     "name": "stdout",
     "output_type": "stream",
     "text": [
      "Circuitous version 0.1\n",
      "A circle of radius 10\n",
      "has an area of 314.1592653589793\n",
      "\n"
     ]
    }
   ],
   "source": [
    "# Tutorial\n",
    "#from Circle import Circle\n",
    "    \n",
    "print('Circuitous version', Circle.version)\n",
    "c = Circle(10)\n",
    "print('A circle of radius', c.radius)\n",
    "print('has an area of', c.area())\n",
    "print()"
   ]
  },
  {
   "cell_type": "markdown",
   "metadata": {},
   "source": [
    "# First customer:  Academia\n"
   ]
  },
  {
   "cell_type": "code",
   "execution_count": 19,
   "metadata": {
    "collapsed": false
   },
   "outputs": [
    {
     "name": "stdout",
     "output_type": "stream",
     "text": [
      "Using Circuitous(tm) version 0.1\n",
      "The average area of 10 random circles\n",
      "is 1.80\n",
      "\n"
     ]
    }
   ],
   "source": [
    "from random import random, seed\n",
    "#from circle import Circle\n",
    "    \n",
    "seed(345677899)\n",
    "print('Using Circuitous(tm) version', Circle.version)\n",
    "n = 10\n",
    "circles = [Circle(random(),'blue') for i in range(n)]\n",
    "print('The average area of', n, 'random circles')\n",
    "areas = [c.area() for c in circles]\n",
    "avg = sum(areas) / n\n",
    "\n",
    "print('is %1.2f' % avg)\n",
    "print()"
   ]
  },
  {
   "cell_type": "markdown",
   "metadata": {},
   "source": [
    "# Next customer, a rubber sheet company, wants a perimeter method\n"
   ]
  },
  {
   "cell_type": "code",
   "execution_count": 20,
   "metadata": {
    "collapsed": true
   },
   "outputs": [],
   "source": [
    "import math\n",
    " \n",
    "class Circle(object):        \n",
    "    \"\"\"An advanced circle analytic toolkit\"\"\"\n",
    "    \n",
    "    version = \"0.1\"\n",
    "    spam = 0.5\n",
    "    \n",
    "    def __init__(self, radius):\n",
    "        self.radius = radius\n",
    "\n",
    "    def area(self):\n",
    "        \"Perform quadrature on this circle.\"\n",
    "        return math.pi * self.radius ** 2\n",
    "        \n",
    "    def perimeter(self):\n",
    "        \"Find the circle's perimeter.\"\n",
    "        return 2.0 * math.pi * self.radius"
   ]
  },
  {
   "cell_type": "markdown",
   "metadata": {},
   "source": [
    "# The rubber sheet company's application\n",
    "Notice what happens to the radius attribute here!"
   ]
  },
  {
   "cell_type": "code",
   "execution_count": 21,
   "metadata": {
    "collapsed": false
   },
   "outputs": [
    {
     "name": "stdout",
     "output_type": "stream",
     "text": [
      "A circlet with a radius of 0.1\n",
      "has a perimeter of 0.6283185307179586\n",
      "and a cold area of 0.031415926535897934\n",
      "and a warm area of 0.038013271108436504\n",
      "\n",
      "A circlet with a radius of 0.7\n",
      "has a perimeter of 4.39822971502571\n",
      "and a cold area of 1.5393804002589984\n",
      "and a warm area of 1.8626502843133883\n",
      "\n",
      "A circlet with a radius of 0.8\n",
      "has a perimeter of 5.026548245743669\n",
      "and a cold area of 2.0106192982974678\n",
      "and a warm area of 2.4328493509399363\n",
      "\n"
     ]
    }
   ],
   "source": [
    "#from circle import Circle\n",
    "    \n",
    "cuts = [0.1, 0.7, 0.8]\n",
    "circles = [Circle(r) for r in cuts]\n",
    "for c in circles:\n",
    "    print('A circlet with a radius of', c.radius)\n",
    "    print('has a perimeter of', c.perimeter())\n",
    "    print('and a cold area of', c.area())\n",
    "    c.radius *= 1.1\n",
    "    print('and a warm area of', c.area())\n",
    "    print()\n",
    "        \n"
   ]
  },
  {
   "cell_type": "markdown",
   "metadata": {},
   "source": [
    "# Third customer:  a national tire chain\n"
   ]
  },
  {
   "cell_type": "code",
   "execution_count": 25,
   "metadata": {
    "collapsed": false
   },
   "outputs": [],
   "source": [
    "#from circle import Circle\n",
    "\n",
    "class Tire(Circle):\n",
    "    \"Tires are circles with a corrected perimeter.\"\n",
    "    \n",
    "    color = 'white'\n",
    "    \n",
    "    def perimeter(self):\n",
    "        \"Circumference corrected for the tire width.\"\n",
    "        return Circle.perimeter(self) * 1.25\n"
   ]
  },
  {
   "cell_type": "code",
   "execution_count": 23,
   "metadata": {
    "collapsed": false
   },
   "outputs": [
    {
     "name": "stdout",
     "output_type": "stream",
     "text": [
      "A tire of radius 22\n",
      "has an inner area of 1520.53084433746\n",
      "and an odometer corrected perimeter of\n",
      "172.7875959474386\n",
      "\n"
     ]
    }
   ],
   "source": [
    "t = Tire(22)\n",
    "print('A tire of radius', t.radius)\n",
    "print('has an inner area of', t.area())\n",
    "print('and an odometer corrected perimeter of',)\n",
    "print(t.perimeter())\n",
    "print()"
   ]
  },
  {
   "cell_type": "markdown",
   "metadata": {},
   "source": [
    "# Next customer:   a national graphics company\n",
    "\n",
    "\n",
    "Their comment:  the API is awkward - a converter function is needed.  \n",
    "Perhaps change the constructor?"
   ]
  },
  {
   "cell_type": "code",
   "execution_count": 26,
   "metadata": {
    "collapsed": true
   },
   "outputs": [],
   "source": [
    "def bbd_to_radius(bbd):\n",
    "    \n",
    "    return bbd/10."
   ]
  },
  {
   "cell_type": "code",
   "execution_count": 27,
   "metadata": {
    "collapsed": false
   },
   "outputs": [
    {
     "name": "stdout",
     "output_type": "stream",
     "text": [
      "A circle with a bbd of 25.1\n",
      "has a radius of 2.5100000000000002\n",
      "and an area of 19.79234787688106\n",
      "\n"
     ]
    }
   ],
   "source": [
    "#from circle import Circle\n",
    "    \n",
    "bbd = 25.1\n",
    "c = Circle(bbd_to_radius(bbd))\n",
    "print('A circle with a bbd of 25.1')\n",
    "print('has a radius of', c.radius)\n",
    "print('and an area of', c.area())\n",
    "print()\n",
    "    \n"
   ]
  },
  {
   "cell_type": "markdown",
   "metadata": {},
   "source": [
    "# Need alternative constructors!"
   ]
  },
  {
   "cell_type": "code",
   "execution_count": 28,
   "metadata": {
    "collapsed": false
   },
   "outputs": [
    {
     "name": "stdout",
     "output_type": "stream",
     "text": [
      "2013-03-16 00:00:00\n",
      "1974-04-27 19:50:16\n",
      "2010-08-16 00:00:00\n",
      "2017-07-24 11:27:45.960778\n"
     ]
    }
   ],
   "source": [
    "from datetime import datetime\n",
    "print(datetime(2013, 3, 16))\n",
    "print(datetime.fromtimestamp(136338616))\n",
    "print(datetime.fromordinal(734000))\n",
    "print(datetime.now())\n"
   ]
  },
  {
   "cell_type": "markdown",
   "metadata": {},
   "source": [
    "# Excersize\n",
    "\n",
    "Fix our class above to handle an alternative constructor."
   ]
  },
  {
   "cell_type": "code",
   "execution_count": 31,
   "metadata": {
    "collapsed": true
   },
   "outputs": [],
   "source": [
    "import math\n",
    " \n",
    "class Circle(object):        \n",
    "    \"\"\"An advanced circle analytic toolkit\"\"\"\n",
    "    \n",
    "    version = \"0.1\"\n",
    "    spam = 0.5\n",
    "    \n",
    "    def __init__(self, radius):\n",
    "        self.radius = radius\n",
    "        \n",
    "    @classmethod\n",
    "    def frombbd(cls, bbd):\n",
    "        return cls(bbd/10.)\n",
    "\n",
    "    def area(self):\n",
    "        \"Perform quadrature on this circle.\"\n",
    "        return math.pi * self.radius ** 2\n",
    "        \n",
    "    def perimeter(self):\n",
    "        \"Find the circle's perimeter.\"\n",
    "        return 2.0 * math.pi * self.radius"
   ]
  },
  {
   "cell_type": "code",
   "execution_count": 32,
   "metadata": {
    "collapsed": false
   },
   "outputs": [
    {
     "name": "stdout",
     "output_type": "stream",
     "text": [
      "A circle with a bbd of 25.1\n",
      "has a radius of 2.5100000000000002\n",
      "and an area of 19.79234787688106\n",
      "\n"
     ]
    }
   ],
   "source": [
    "#from circle import Circle\n",
    "    \n",
    "bbd = 25.1\n",
    "c = Circle.frombbd(bbd)\n",
    "print('A circle with a bbd of 25.1')\n",
    "print('has a radius of', c.radius)\n",
    "print('and an area of', c.area())\n",
    "print()"
   ]
  },
  {
   "cell_type": "code",
   "execution_count": null,
   "metadata": {
    "collapsed": true
   },
   "outputs": [],
   "source": []
  }
 ],
 "metadata": {
  "kernelspec": {
   "display_name": "Python 3",
   "language": "python",
   "name": "python3"
  },
  "language_info": {
   "codemirror_mode": {
    "name": "ipython",
    "version": 3
   },
   "file_extension": ".py",
   "mimetype": "text/x-python",
   "name": "python",
   "nbconvert_exporter": "python",
   "pygments_lexer": "ipython3",
   "version": "3.6.0"
  }
 },
 "nbformat": 4,
 "nbformat_minor": 2
}
