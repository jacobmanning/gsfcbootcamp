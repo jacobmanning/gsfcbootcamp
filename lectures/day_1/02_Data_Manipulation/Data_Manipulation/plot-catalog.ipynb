{
 "cells": [
  {
   "cell_type": "markdown",
   "metadata": {},
   "source": [
    "# Data Manipulation (CSV File)\n",
    "\n",
    "Jeremy S. Perkins\n",
    "\n",
    "This is bascially (and exact copy) the astropy.plot_catalog tutorial."
   ]
  },
  {
   "cell_type": "code",
   "execution_count": 1,
   "metadata": {
    "collapsed": false,
    "deletable": true,
    "editable": true
   },
   "outputs": [
    {
     "name": "stderr",
     "output_type": "stream",
     "text": [
      "/usr/local/anaconda3/lib/python3.6/site-packages/matplotlib/__init__.py:913: UserWarning: axes.color_cycle is deprecated and replaced with axes.prop_cycle; please use the latter.\n",
      "  warnings.warn(self.msg_depr % (key, alt_key))\n"
     ]
    }
   ],
   "source": [
    "import numpy as np\n",
    "\n",
    "# Set up matplotlib and use a nicer set of plot parameters\n",
    "%config InlineBackend.rc = {}\n",
    "import matplotlib\n",
    "matplotlib.rc_file(\"matplotlibrc\")\n",
    "import matplotlib.pyplot as plt\n",
    "%matplotlib inline"
   ]
  },
  {
   "cell_type": "markdown",
   "metadata": {
    "deletable": true,
    "editable": true
   },
   "source": [
    "# Read in catalog information from a text file and plot some parameters"
   ]
  },
  {
   "cell_type": "markdown",
   "metadata": {
    "deletable": true,
    "editable": true
   },
   "source": [
    "Astropy provides functionality for reading in and manipulating tabular\n",
    "data through the `astropy.table` subpackage. An additional set of\n",
    "tools for reading and writing ASCII data are provided with the\n",
    "`astropy.io.ascii` subpackage, but fundamentally use the classes and\n",
    "methods implemented in `astropy.table`.\n",
    "\n",
    "We'll start by importing the `ascii` subpackage:"
   ]
  },
  {
   "cell_type": "code",
   "execution_count": 2,
   "metadata": {
    "collapsed": false,
    "deletable": true,
    "editable": true
   },
   "outputs": [],
   "source": [
    "from astropy.io import ascii"
   ]
  },
  {
   "cell_type": "markdown",
   "metadata": {
    "deletable": true,
    "editable": true
   },
   "source": [
    "For many cases, it is sufficient to use the `ascii.read('filename')` \n",
    "function as a black box for reading data from table-formatted text \n",
    "files. By default, this function will try to figure out how your \n",
    "data is formatted/delimited (by default, `guess=True`). For example, \n",
    "if your data are:\n",
    "\n",
    "    # name,ra,dec\n",
    "    BLG100,17:51:00.0,-29:59:48\n",
    "    BLG101,17:53:40.2,-29:49:52\n",
    "    BLG102,17:56:20.2,-29:30:51\n",
    "    BLG103,17:56:20.2,-30:06:22\n",
    "    ...\n",
    "\n",
    "(see _simple_table.csv_)\n",
    "\n",
    "`ascii.read()` will return a `Table` object:"
   ]
  },
  {
   "cell_type": "code",
   "execution_count": 3,
   "metadata": {
    "collapsed": false,
    "deletable": true,
    "editable": true
   },
   "outputs": [
    {
     "data": {
      "text/html": [
       "&lt;Table length=4&gt;\n",
       "<table id=\"table4642780048\" class=\"table-striped table-bordered table-condensed\">\n",
       "<thead><tr><th>name</th><th>ra</th><th>dec</th></tr></thead>\n",
       "<thead><tr><th>str6</th><th>str10</th><th>str9</th></tr></thead>\n",
       "<tr><td>BLG100</td><td>17:51:00.0</td><td>-29:59:48</td></tr>\n",
       "<tr><td>BLG101</td><td>17:53:40.2</td><td>-29:49:52</td></tr>\n",
       "<tr><td>BLG102</td><td>17:56:20.2</td><td>-29:30:51</td></tr>\n",
       "<tr><td>BLG103</td><td>17:56:20.2</td><td>-30:06:22</td></tr>\n",
       "</table>"
      ],
      "text/plain": [
       "<Table length=4>\n",
       " name      ra        dec   \n",
       " str6    str10       str9  \n",
       "------ ---------- ---------\n",
       "BLG100 17:51:00.0 -29:59:48\n",
       "BLG101 17:53:40.2 -29:49:52\n",
       "BLG102 17:56:20.2 -29:30:51\n",
       "BLG103 17:56:20.2 -30:06:22"
      ]
     },
     "execution_count": 3,
     "metadata": {},
     "output_type": "execute_result"
    }
   ],
   "source": [
    "tbl = ascii.read(\"simple_table.csv\")\n",
    "tbl"
   ]
  },
  {
   "cell_type": "markdown",
   "metadata": {
    "deletable": true,
    "editable": true
   },
   "source": [
    "The header names are automatically parsed from the top of the file,\n",
    "and the delimiter is inferred from the rest of the file -- awesome! \n",
    "We can access the columns directly from their names as 'keys' of the\n",
    "table object:"
   ]
  },
  {
   "cell_type": "code",
   "execution_count": 4,
   "metadata": {
    "collapsed": false,
    "deletable": true,
    "editable": true
   },
   "outputs": [
    {
     "data": {
      "text/html": [
       "&lt;Column name=&apos;ra&apos; dtype=&apos;str10&apos; length=4&gt;\n",
       "<table>\n",
       "<tr><td>17:51:00.0</td></tr>\n",
       "<tr><td>17:53:40.2</td></tr>\n",
       "<tr><td>17:56:20.2</td></tr>\n",
       "<tr><td>17:56:20.2</td></tr>\n",
       "</table>"
      ],
      "text/plain": [
       "<Column name='ra' dtype='str10' length=4>\n",
       "17:51:00.0\n",
       "17:53:40.2\n",
       "17:56:20.2\n",
       "17:56:20.2"
      ]
     },
     "execution_count": 4,
     "metadata": {},
     "output_type": "execute_result"
    }
   ],
   "source": [
    "tbl[\"ra\"]"
   ]
  },
  {
   "cell_type": "markdown",
   "metadata": {
    "deletable": true,
    "editable": true
   },
   "source": [
    "If we want to then convert the first RA (as a sexagesimal angle) to\n",
    "decimal degrees, for example, we can pluck out the first (0th) item in\n",
    "the column and use the `coordinates` subpackage to parse the string:"
   ]
  },
  {
   "cell_type": "code",
   "execution_count": 5,
   "metadata": {
    "collapsed": false,
    "deletable": true,
    "editable": true
   },
   "outputs": [
    {
     "data": {
      "text/plain": [
       "267.75"
      ]
     },
     "execution_count": 5,
     "metadata": {},
     "output_type": "execute_result"
    }
   ],
   "source": [
    "import astropy.coordinates as coord\n",
    "import astropy.units as u\n",
    "\n",
    "first_row = tbl[0] # get the first (0th) row\n",
    "ra = coord.Angle(first_row[\"ra\"], unit=u.hour) # create an Angle object\n",
    "ra.degree # convert to degrees"
   ]
  },
  {
   "cell_type": "code",
   "execution_count": 6,
   "metadata": {
    "collapsed": false
   },
   "outputs": [
    {
     "data": {
      "text/plain": [
       "17.85"
      ]
     },
     "execution_count": 6,
     "metadata": {},
     "output_type": "execute_result"
    }
   ],
   "source": [
    "ra.hour"
   ]
  },
  {
   "cell_type": "markdown",
   "metadata": {
    "deletable": true,
    "editable": true
   },
   "source": [
    "Now let's look at a case where this breaks, and we have to specify some\n",
    "more options to the `read()` function. Our data may look a bit messier::\n",
    "\n",
    "    ,,,,2MASS Photometry,,,,,,WISE Photometry,,,,,,,,Spectra,,,,Astrometry,,,,,,,,,,,\n",
    "    Name,Designation,RA,Dec,Jmag,J_unc,Hmag,H_unc,Kmag,K_unc,W1,W1_unc,W2,W2_unc,W3,W3_unc,W4,W4_unc,Spectral Type,Spectra (FITS),Opt Spec Refs,NIR Spec Refs,pm_ra (mas),pm_ra_unc,pm_dec (mas),pm_dec_unc,pi (mas),pi_unc,radial velocity (km/s),rv_unc,Astrometry Refs,Discovery Refs,Group/Age,Note\n",
    "    ,00 04 02.84 -64 10 35.6,1.01201,-64.18,15.79,0.07,14.83,0.07,14.01,0.05,13.37,0.03,12.94,0.03,12.18,0.24,9.16,null,L1γ,,Kirkpatrick et al. 2010,,,,,,,,,,,Kirkpatrick et al. 2010,,\n",
    "    PC 0025+04,00 27 41.97 +05 03 41.7,6.92489,5.06,16.19,0.09,15.29,0.10,14.96,0.12,14.62,0.04,14.14,0.05,12.24,null,8.89,null,M9.5β,,Mould et al. 1994,,0.0105,0.0004,-0.0008,0.0003,,,,,Faherty et al. 2009,Schneider et al. 1991,,,00 32 55.84 -44 05 05.8,8.23267,-44.08,14.78,0.04,13.86,0.03,13.27,0.04,12.82,0.03,12.49,0.03,11.73,0.19,9.29,null,L0γ,,Cruz et al. 2009,,0.1178,0.0043,-0.0916,0.0043,38.4,4.8,,,Faherty et al. 2012,Reid et al. 2008,,\n",
    "    ...\n",
    "\n",
    "(see _Young-Objects-Compilation.csv_)"
   ]
  },
  {
   "cell_type": "markdown",
   "metadata": {
    "deletable": true,
    "editable": true
   },
   "source": [
    "If we try to just use `ascii.read()` on this data, it fails to parse the names out, and the column names become `col` followed by the number of the column:"
   ]
  },
  {
   "cell_type": "code",
   "execution_count": 7,
   "metadata": {
    "collapsed": false,
    "deletable": true,
    "editable": true
   },
   "outputs": [
    {
     "data": {
      "text/plain": [
       "['col1',\n",
       " 'col2',\n",
       " 'col3',\n",
       " 'col4',\n",
       " 'col5',\n",
       " 'col6',\n",
       " 'col7',\n",
       " 'col8',\n",
       " 'col9',\n",
       " 'col10',\n",
       " 'col11',\n",
       " 'col12',\n",
       " 'col13',\n",
       " 'col14',\n",
       " 'col15',\n",
       " 'col16',\n",
       " 'col17',\n",
       " 'col18',\n",
       " 'col19',\n",
       " 'col20',\n",
       " 'col21',\n",
       " 'col22',\n",
       " 'col23',\n",
       " 'col24',\n",
       " 'col25',\n",
       " 'col26',\n",
       " 'col27',\n",
       " 'col28',\n",
       " 'col29',\n",
       " 'col30',\n",
       " 'col31',\n",
       " 'col32',\n",
       " 'col33',\n",
       " 'col34']"
      ]
     },
     "execution_count": 7,
     "metadata": {},
     "output_type": "execute_result"
    }
   ],
   "source": [
    "tbl = ascii.read(\"Young-Objects-Compilation.csv\")\n",
    "tbl.colnames"
   ]
  },
  {
   "cell_type": "markdown",
   "metadata": {
    "deletable": true,
    "editable": true
   },
   "source": [
    "What happened? The column names are just `col1`, `col2`, etc., the\n",
    "default names if `ascii.read()` is unable to parse out column\n",
    "names. We know it failed to read the column names, but also notice\n",
    "that the first row of data are strings -- something else went wrong!"
   ]
  },
  {
   "cell_type": "code",
   "execution_count": 8,
   "metadata": {
    "collapsed": false,
    "deletable": true,
    "editable": true
   },
   "outputs": [
    {
     "data": {
      "text/html": [
       "&lt;Row index=0 masked=True&gt;\n",
       "<table id=\"table4643744288\">\n",
       "<thead><tr><th>col1</th><th>col2</th><th>col3</th><th>col4</th><th>col5</th><th>col6</th><th>col7</th><th>col8</th><th>col9</th><th>col10</th><th>col11</th><th>col12</th><th>col13</th><th>col14</th><th>col15</th><th>col16</th><th>col17</th><th>col18</th><th>col19</th><th>col20</th><th>col21</th><th>col22</th><th>col23</th><th>col24</th><th>col25</th><th>col26</th><th>col27</th><th>col28</th><th>col29</th><th>col30</th><th>col31</th><th>col32</th><th>col33</th><th>col34</th></tr></thead>\n",
       "<thead><tr><th>str24</th><th>str25</th><th>str9</th><th>str6</th><th>str16</th><th>str5</th><th>str5</th><th>str5</th><th>str5</th><th>str5</th><th>str15</th><th>str6</th><th>str5</th><th>str6</th><th>str5</th><th>str6</th><th>str4</th><th>str6</th><th>str13</th><th>str14</th><th>str26</th><th>str23</th><th>str11</th><th>str9</th><th>str12</th><th>str10</th><th>str8</th><th>str6</th><th>str22</th><th>str6</th><th>str19</th><th>str23</th><th>str9</th><th>str38</th></tr></thead>\n",
       "<tr><td>--</td><td>--</td><td>--</td><td>--</td><td>2MASS Photometry</td><td>--</td><td>--</td><td>--</td><td>--</td><td>--</td><td>WISE Photometry</td><td>--</td><td>--</td><td>--</td><td>--</td><td>--</td><td>--</td><td>--</td><td>Spectra</td><td>--</td><td>--</td><td>--</td><td>Astrometry</td><td>--</td><td>--</td><td>--</td><td>--</td><td>--</td><td>--</td><td>--</td><td>--</td><td>--</td><td>--</td><td>--</td></tr>\n",
       "</table>"
      ],
      "text/plain": [
       "<Row index=0 masked=True>\n",
       " col1  col2 col3 col4       col5       col6 col7 col8 col9 col10      col11      col12 col13 col14 col15 col16 col17 col18  col19  col20 col21 col22   col23    col24 col25 col26 col27 col28 col29 col30 col31 col32 col33 col34\n",
       "str24 str25 str9 str6      str16       str5 str5 str5 str5  str5      str15       str6  str5  str6  str5  str6  str4  str6  str13  str14 str26 str23   str11     str9 str12 str10  str8  str6 str22  str6 str19 str23  str9 str38\n",
       "----- ----- ---- ---- ---------------- ---- ---- ---- ---- ----- --------------- ----- ----- ----- ----- ----- ----- ----- ------- ----- ----- ----- ---------- ----- ----- ----- ----- ----- ----- ----- ----- ----- ----- -----\n",
       "   --    --   --   -- 2MASS Photometry   --   --   --   --    -- WISE Photometry    --    --    --    --    --    --    -- Spectra    --    --    -- Astrometry    --    --    --    --    --    --    --    --    --    --    --"
      ]
     },
     "execution_count": 8,
     "metadata": {},
     "output_type": "execute_result"
    }
   ],
   "source": [
    "tbl[0]"
   ]
  },
  {
   "cell_type": "markdown",
   "metadata": {
    "deletable": true,
    "editable": true
   },
   "source": [
    "A few things are causing problems here. First, there are two header \n",
    "lines in the file and the header lines are not denoted by comment \n",
    "characters. The first line is actually some meta data that we don't\n",
    "care about, so we want to skip it. We can get around this problem by \n",
    "specifying the `header_start` keyword to the `ascii.read()` function. \n",
    "This keyword argument specifies the index of the row in the text file \n",
    "to read the column names from:"
   ]
  },
  {
   "cell_type": "code",
   "execution_count": 9,
   "metadata": {
    "collapsed": false,
    "deletable": true,
    "editable": true
   },
   "outputs": [
    {
     "data": {
      "text/plain": [
       "['Name',\n",
       " 'Designation',\n",
       " 'RA',\n",
       " 'Dec',\n",
       " 'Jmag',\n",
       " 'J_unc',\n",
       " 'Hmag',\n",
       " 'H_unc',\n",
       " 'Kmag',\n",
       " 'K_unc',\n",
       " 'W1',\n",
       " 'W1_unc',\n",
       " 'W2',\n",
       " 'W2_unc',\n",
       " 'W3',\n",
       " 'W3_unc',\n",
       " 'W4',\n",
       " 'W4_unc',\n",
       " 'Spectral Type',\n",
       " 'Spectra (FITS)',\n",
       " 'Opt Spec Refs',\n",
       " 'NIR Spec Refs',\n",
       " 'pm_ra (mas)',\n",
       " 'pm_ra_unc',\n",
       " 'pm_dec (mas)',\n",
       " 'pm_dec_unc',\n",
       " 'pi (mas)',\n",
       " 'pi_unc',\n",
       " 'radial velocity (km/s)',\n",
       " 'rv_unc',\n",
       " 'Astrometry Refs',\n",
       " 'Discovery Refs',\n",
       " 'Group/Age',\n",
       " 'Note']"
      ]
     },
     "execution_count": 9,
     "metadata": {},
     "output_type": "execute_result"
    }
   ],
   "source": [
    "tbl = ascii.read(\"Young-Objects-Compilation.csv\", header_start=1)\n",
    "tbl.colnames"
   ]
  },
  {
   "cell_type": "markdown",
   "metadata": {
    "deletable": true,
    "editable": true
   },
   "source": [
    "Great -- now the columns have the correct names, but there is still a\n",
    "problem: all of the columns have string data types, and the column\n",
    "names are still included as a row in the table. This is because by\n",
    "default the data are assumed to start on the second row (index=1). \n",
    "We can specify `data_start=2` to tell the reader that the data in\n",
    "this file actually start on the 3rd (index=2) row:"
   ]
  },
  {
   "cell_type": "code",
   "execution_count": 10,
   "metadata": {
    "collapsed": false,
    "deletable": true,
    "editable": true
   },
   "outputs": [],
   "source": [
    "tbl = ascii.read(\"Young-Objects-Compilation.csv\", header_start=1, data_start=2)"
   ]
  },
  {
   "cell_type": "markdown",
   "metadata": {
    "deletable": true,
    "editable": true
   },
   "source": [
    "Some of the columns have missing data, for example, some of the `RA` values are missing (denoted by -- when printed):"
   ]
  },
  {
   "cell_type": "code",
   "execution_count": 11,
   "metadata": {
    "collapsed": false,
    "deletable": true,
    "editable": true
   },
   "outputs": [
    {
     "name": "stdout",
     "output_type": "stream",
     "text": [
      "    RA   \n",
      "---------\n",
      "  1.01201\n",
      "  6.92489\n",
      "  8.23267\n",
      "  9.42942\n",
      " 11.33929\n",
      "       --\n",
      "       --\n",
      "       --\n",
      " 21.19163\n",
      "  21.5275\n",
      "      ...\n",
      "300.20171\n",
      "       --\n",
      "303.46467\n",
      "   321.71\n",
      "       --\n",
      "       --\n",
      "332.05679\n",
      "333.43715\n",
      "342.47273\n",
      "       --\n",
      "350.72079\n",
      "Length = 64 rows\n"
     ]
    }
   ],
   "source": [
    "print(tbl['RA'])"
   ]
  },
  {
   "cell_type": "markdown",
   "metadata": {
    "deletable": true,
    "editable": true
   },
   "source": [
    "This is called a __Masked column__ because some missing values are \n",
    "masked out upon display. If we want to use this numeric data, we have\n",
    "to tell `astropy` what to fill the missing values with. We can do this\n",
    "with the `.filled()` method. For example, to fill all of the missing\n",
    "values with `NaN`'s:"
   ]
  },
  {
   "cell_type": "code",
   "execution_count": 12,
   "metadata": {
    "collapsed": false,
    "deletable": true,
    "editable": true
   },
   "outputs": [
    {
     "data": {
      "text/html": [
       "&lt;Column name=&apos;RA&apos; dtype=&apos;float64&apos; length=64&gt;\n",
       "<table>\n",
       "<tr><td>1.01201</td></tr>\n",
       "<tr><td>6.92489</td></tr>\n",
       "<tr><td>8.23267</td></tr>\n",
       "<tr><td>9.42942</td></tr>\n",
       "<tr><td>11.33929</td></tr>\n",
       "<tr><td>nan</td></tr>\n",
       "<tr><td>nan</td></tr>\n",
       "<tr><td>nan</td></tr>\n",
       "<tr><td>21.19163</td></tr>\n",
       "<tr><td>21.5275</td></tr>\n",
       "<tr><td>25.49263</td></tr>\n",
       "<tr><td>nan</td></tr>\n",
       "<tr><td>...</td></tr>\n",
       "<tr><td>299.19583</td></tr>\n",
       "<tr><td>300.20171</td></tr>\n",
       "<tr><td>nan</td></tr>\n",
       "<tr><td>303.46467</td></tr>\n",
       "<tr><td>321.71</td></tr>\n",
       "<tr><td>nan</td></tr>\n",
       "<tr><td>nan</td></tr>\n",
       "<tr><td>332.05679</td></tr>\n",
       "<tr><td>333.43715</td></tr>\n",
       "<tr><td>342.47273</td></tr>\n",
       "<tr><td>nan</td></tr>\n",
       "<tr><td>350.72079</td></tr>\n",
       "</table>"
      ],
      "text/plain": [
       "<Column name='RA' dtype='float64' length=64>\n",
       "  1.01201\n",
       "  6.92489\n",
       "  8.23267\n",
       "  9.42942\n",
       " 11.33929\n",
       "      nan\n",
       "      nan\n",
       "      nan\n",
       " 21.19163\n",
       "  21.5275\n",
       " 25.49263\n",
       "      nan\n",
       "      ...\n",
       "299.19583\n",
       "300.20171\n",
       "      nan\n",
       "303.46467\n",
       "   321.71\n",
       "      nan\n",
       "      nan\n",
       "332.05679\n",
       "333.43715\n",
       "342.47273\n",
       "      nan\n",
       "350.72079"
      ]
     },
     "execution_count": 12,
     "metadata": {},
     "output_type": "execute_result"
    }
   ],
   "source": [
    "tbl['RA'].filled(np.nan)"
   ]
  },
  {
   "cell_type": "markdown",
   "metadata": {
    "deletable": true,
    "editable": true
   },
   "source": [
    "Let's recap what we've done so far, then make some plots with the\n",
    "data. Our data file has an extra line above the column names, so we\n",
    "use the `header_start` keyword to tell it to start from line 1 instead\n",
    "of line 0 (remember Python is 0-indexed!). We then used had to specify\n",
    "that the data starts on line 2 using the `data_start`\n",
    "keyword. Finally, we note some columns have missing values."
   ]
  },
  {
   "cell_type": "code",
   "execution_count": 13,
   "metadata": {
    "collapsed": false,
    "deletable": true,
    "editable": true
   },
   "outputs": [],
   "source": [
    "data = ascii.read(\"Young-Objects-Compilation.csv\", header_start=1, data_start=2)"
   ]
  },
  {
   "cell_type": "markdown",
   "metadata": {
    "deletable": true,
    "editable": true
   },
   "source": [
    "Now that we have our data loaded, let's plot a color-magnitude diagram."
   ]
  },
  {
   "cell_type": "markdown",
   "metadata": {
    "deletable": true,
    "editable": true
   },
   "source": [
    "Here we simply make a scatter plot of the J-K color on the x-axis\n",
    "against the J magnitude on the y-axis. We use a trick to flip the\n",
    "y-axis `plt.ylim(reversed(plt.ylim()))`. Called with no arguments,\n",
    "`plt.ylim()` will return a tuple with the axis bounds, \n",
    "e.g. (0,10). Calling the function _with_ arguments will set the limits \n",
    "of the axis, so we simply set the limits to be the reverse of whatever they\n",
    "were before. Using this `pylab`-style plotting is convenient for\n",
    "making quick plots and interactive use, but is not great if you need\n",
    "more control over your figures."
   ]
  },
  {
   "cell_type": "code",
   "execution_count": 14,
   "metadata": {
    "collapsed": false,
    "deletable": true,
    "editable": true
   },
   "outputs": [
    {
     "data": {
      "text/plain": [
       "<matplotlib.text.Text at 0x1183fe588>"
      ]
     },
     "execution_count": 14,
     "metadata": {},
     "output_type": "execute_result"
    },
    {
     "data": {
      "image/png": "[encoded data removed]",
      "text/plain": [
       "<matplotlib.figure.Figure at 0x1182ee4e0>"
      ]
     },
     "metadata": {},
     "output_type": "display_data"
    }
   ],
   "source": [
    "plt.scatter(data[\"Jmag\"] - data[\"Kmag\"], data[\"Jmag\"]) # plot J-K vs. J\n",
    "plt.ylim(reversed(plt.ylim())) # flip the y-axis\n",
    "plt.xlabel(\"$J-K_s$\", fontsize=20)\n",
    "plt.ylabel(\"$J$\", fontsize=20)"
   ]
  },
  {
   "cell_type": "markdown",
   "metadata": {
    "deletable": true,
    "editable": true
   },
   "source": [
    "As a final example, we will plot the angular positions from the\n",
    "catalog on a 2D projection of the sky. Instead of using `pylab`-style\n",
    "plotting, we'll take a more object-oriented approach. We'll start by\n",
    "creating a `Figure` object and adding a single subplot to the\n",
    "figure. We can specify a projection with the `projection` keyword; in\n",
    "this example we will use a Mollweide projection. Unfortunately, it is \n",
    "highly non-trivial to make the matplotlib projection defined this way \n",
    "follow the celestial convention of longitude/RA increasing to the left. \n",
    "\n",
    "The axis object, `ax`, knows to expect angular coordinate\n",
    "values. An important fact is that it expects the values to be in\n",
    "_radians_, and it expects the azimuthal angle values to be between\n",
    "(-180º,180º). This is (currently) not customizable, so we have to\n",
    "coerce our RA data to conform to these rules! `astropy` provides a\n",
    "coordinate class for handling angular values, `astropy.coordinates.Angle`. \n",
    "We can convert our column of RA values to radians, and wrap the \n",
    "angle bounds using this class."
   ]
  },
  {
   "cell_type": "code",
   "execution_count": 15,
   "metadata": {
    "collapsed": false,
    "deletable": true,
    "editable": true
   },
   "outputs": [],
   "source": [
    "import astropy.coordinates as coord\n",
    "ra = coord.Angle(data['RA'].filled(np.nan)*u.degree)\n",
    "ra = ra.wrap_at(180*u.degree)\n",
    "dec = coord.Angle(data['Dec'].filled(np.nan)*u.degree)"
   ]
  },
  {
   "cell_type": "code",
   "execution_count": 16,
   "metadata": {
    "collapsed": false,
    "deletable": true,
    "editable": true
   },
   "outputs": [
    {
     "data": {
      "text/plain": [
       "<matplotlib.collections.PathCollection at 0x118891c88>"
      ]
     },
     "execution_count": 16,
     "metadata": {},
     "output_type": "execute_result"
    },
    {
     "data": {
      "image/png": "[encoded data removed]",
      "text/plain": [
       "<matplotlib.figure.Figure at 0x1182035c0>"
      ]
     },
     "metadata": {},
     "output_type": "display_data"
    }
   ],
   "source": [
    "fig = plt.figure(figsize=(8,6))\n",
    "ax = fig.add_subplot(111, projection=\"mollweide\")\n",
    "ax.scatter(ra.radian, dec.radian)"
   ]
  },
  {
   "cell_type": "markdown",
   "metadata": {
    "deletable": true,
    "editable": true
   },
   "source": [
    "By default, matplotlib will add degree ticklabels, so let's change the\n",
    "horizontal (x) tick labels to be in units of hours, and display a grid"
   ]
  },
  {
   "cell_type": "code",
   "execution_count": 17,
   "metadata": {
    "collapsed": false,
    "deletable": true,
    "editable": true
   },
   "outputs": [
    {
     "data": {
      "image/png": "[encoded data removed]",
      "text/plain": [
       "<matplotlib.figure.Figure at 0x1188c2400>"
      ]
     },
     "metadata": {},
     "output_type": "display_data"
    }
   ],
   "source": [
    "fig = plt.figure(figsize=(8,6))\n",
    "ax = fig.add_subplot(111, projection=\"mollweide\")\n",
    "ax.scatter(ra.radian, dec.radian)\n",
    "ax.set_xticklabels(['14h','16h','18h','20h','22h','0h','2h','4h','6h','8h','10h'])\n",
    "ax.grid(True)"
   ]
  },
  {
   "cell_type": "markdown",
   "metadata": {
    "deletable": true,
    "editable": true
   },
   "source": [
    "We can save this figure as a PDF using the `savefig` function:"
   ]
  },
  {
   "cell_type": "code",
   "execution_count": 18,
   "metadata": {
    "collapsed": true,
    "deletable": true,
    "editable": true
   },
   "outputs": [],
   "source": [
    "fig.savefig(\"map.pdf\")"
   ]
  },
  {
   "cell_type": "markdown",
   "metadata": {
    "deletable": true,
    "editable": true
   },
   "source": [
    "## Exercises"
   ]
  },
  {
   "cell_type": "markdown",
   "metadata": {
    "deletable": true,
    "editable": true
   },
   "source": [
    "Make the map figures as just above, but color the points by the `'Kmag'` column of the table."
   ]
  },
  {
   "cell_type": "code",
   "execution_count": null,
   "metadata": {
    "collapsed": false,
    "deletable": true,
    "editable": true
   },
   "outputs": [],
   "source": []
  },
  {
   "cell_type": "markdown",
   "metadata": {
    "deletable": true,
    "editable": true
   },
   "source": [
    "Try making the maps again, but with each of the following projections: 'aitoff', 'hammer', 'lambert', and `None` (which is the same as not giving any projection).  Do any of them make the data seem easier to understand?"
   ]
  },
  {
   "cell_type": "code",
   "execution_count": null,
   "metadata": {
    "collapsed": false,
    "deletable": true,
    "editable": true
   },
   "outputs": [],
   "source": []
  }
 ],
 "metadata": {
  "astropy-tutorials": {
   "author": "Adrian M. Price-Whelan <adrn@astro.columbia.edu> and Kelle Cruz <kellecruz@gmail.com>",
   "date": "July 2013",
   "description": "Demonstrates use of astropy.io.ascii for reading and writing ASCII data, astropy.coordinates and astropy.units for converting RA (as a sexagesimal angle) to decimal degrees, and matplotlib for making a color-magnitude diagram and on-sky locations in a mollweide projection.",
   "link_name": "Read and plot catalog information from a text file",
   "name": "",
   "published": true
  },
  "kernelspec": {
   "display_name": "Python 3",
   "language": "python",
   "name": "python3"
  },
  "language_info": {
   "codemirror_mode": {
    "name": "ipython",
    "version": 3
   },
   "file_extension": ".py",
   "mimetype": "text/x-python",
   "name": "python",
   "nbconvert_exporter": "python",
   "pygments_lexer": "ipython3",
   "version": "3.6.0"
  }
 },
 "nbformat": 4,
 "nbformat_minor": 0
}
